{
 "cells": [
  {
   "cell_type": "code",
   "execution_count": 5,
   "id": "5f7484d8",
   "metadata": {},
   "outputs": [],
   "source": [
    "import pandas as pd\n",
    "import numpy as np\n",
    "import requests\n",
    "import pypsa\n",
    "import linopy\n",
    "#import pypsatopo\n",
    "import parameters as p\n",
    "import os\n",
    "import sys\n",
    "import matplotlib.pyplot as plt\n",
    "import pickle as pkl\n",
    "import math\n",
    "import itertools\n",
    "import bisect\n",
    "import seaborn as sns\n",
    "import re\n",
    "from scipy.stats import pearsonr\n",
    "from io import StringIO\n",
    "import json\n",
    "import urllib\n",
    "from pathlib import Path\n",
    "import hashlib\n",
    "#from entsoe import EntsoePandasClient\n",
    "from datetime import datetime, timedelta\n",
    "import pytz"
   ]
  },
  {
   "cell_type": "code",
   "execution_count": null,
   "id": "c1f882aa",
   "metadata": {},
   "outputs": [],
   "source": []
  },
  {
   "cell_type": "code",
   "execution_count": null,
   "id": "1a75722f",
   "metadata": {},
   "outputs": [],
   "source": [
    "i"
   ]
  }
 ],
 "metadata": {
  "kernelspec": {
   "display_name": "integrated-energy-grids",
   "language": "python",
   "name": "python3"
  },
  "language_info": {
   "codemirror_mode": {
    "name": "ipython",
    "version": 3
   },
   "file_extension": ".py",
   "mimetype": "text/x-python",
   "name": "python",
   "nbconvert_exporter": "python",
   "pygments_lexer": "ipython3",
   "version": "3.11.12"
  }
 },
 "nbformat": 4,
 "nbformat_minor": 5
}
